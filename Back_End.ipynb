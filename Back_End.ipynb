{
 "cells": [
  {
   "cell_type": "code",
   "execution_count": 1,
   "id": "260e46e6",
   "metadata": {},
   "outputs": [],
   "source": [
    "import mysql.connector as sql\n",
    "from mysql.connector import Error\n",
    "import pandas as pd"
   ]
  },
  {
   "cell_type": "markdown",
   "id": "73117a95",
   "metadata": {},
   "source": [
    "For connecting to database"
   ]
  },
  {
   "cell_type": "code",
   "execution_count": 2,
   "id": "1be99ec2",
   "metadata": {},
   "outputs": [
    {
     "name": "stdout",
     "output_type": "stream",
     "text": [
      "MySQL Database connection succesful\n"
     ]
    }
   ],
   "source": [
    "#Creating a connection:\n",
    "\n",
    "def create_server_connection(host_name,user_name,user_password):\n",
    "    connection = None\n",
    "    try:\n",
    "        connection =  sql.connect(\n",
    "            host = host_name,\n",
    "            user = user_name,\n",
    "            password = user_password\n",
    "        )\n",
    "        print(\"MySQL Database connection succesful\")\n",
    "        \n",
    "    except Error as err:\n",
    "        print(f\"Error: '{err}'\")\n",
    "    return connection\n",
    "\n",
    "#connecting to the database:\n",
    "\n",
    "pw = \"Password\"\n",
    "db = \"test\"\n",
    "connection = create_server_connection(\"127.0.0.1\",\"root\",pw)\n",
    "\n",
    "\n"
   ]
  },
  {
   "cell_type": "code",
   "execution_count": 3,
   "id": "b9588b77",
   "metadata": {},
   "outputs": [
    {
     "name": "stdout",
     "output_type": "stream",
     "text": [
      "Error:'1007 (HY000): Can't create database 'mysql_python'; database exists'\n"
     ]
    }
   ],
   "source": [
    "#creating sql_python database0\n",
    "\n",
    "def create_database(connection,query):\n",
    "    cursor = connection.cursor()\n",
    "    try:\n",
    "        cursor.execute(query)\n",
    "        print(\"Database created succcesfully\")\n",
    "    except Error as err:\n",
    "        print(f\"Error:'{err}'\")\n",
    "        \n",
    "create_database_query = 'CREATE DATABASE mysql_python'\n",
    "create_database(connection,create_database_query)"
   ]
  },
  {
   "cell_type": "code",
   "execution_count": 4,
   "id": "983dd491",
   "metadata": {},
   "outputs": [],
   "source": [
    "#Execute SQL query\n",
    "\n",
    "def execute_query(connection,query):\n",
    "    cursor = connection.cursor()\n",
    "    try:\n",
    "        cursor.execute(query)\n",
    "        connection.commit()\n",
    "        print(\"Query successfully executed\")\n",
    "    except Error as err:\n",
    "        print(f\"Error: '{err}'\")"
   ]
  },
  {
   "cell_type": "code",
   "execution_count": 5,
   "id": "d785810e",
   "metadata": {},
   "outputs": [],
   "source": [
    "def create_db_connection(host_name,user_name,user_password,db_name):\n",
    "    connection = None\n",
    "    try:\n",
    "        connection = sql.connect(\n",
    "            host = host_name,\n",
    "            user = user_name,\n",
    "            passwd = user_password,\n",
    "            database = db_name)\n",
    "        print(\"MySql database connection successfull\")\n",
    "    except Error as err:\n",
    "        print(f\"Error: {err}\")\n",
    "    return connection"
   ]
  },
  {
   "cell_type": "code",
   "execution_count": 6,
   "id": "29213cdb",
   "metadata": {},
   "outputs": [
    {
     "name": "stdout",
     "output_type": "stream",
     "text": [
      "MySql database connection successfull\n",
      "Error: '1050 (42S01): Table 'orders' already exists'\n"
     ]
    }
   ],
   "source": [
    "db = \"mysql_python\"\n",
    "create_orders_table = \"\"\"\n",
    "CREATE TABLE orders(\n",
    "order_id int primary key,\n",
    "customer_name varchar(30) not null,\n",
    "product_name varchar(20) not null,\n",
    "date_ordered date,\n",
    "quantity int,\n",
    "unit_price float,\n",
    "phone_number varchar(20));\n",
    "\"\"\"\n",
    "#connect to the database\n",
    "connection = create_db_connection(\"localhost\",\"root\",pw,db)\n",
    "execute_query(connection,create_orders_table)\n"
   ]
  },
  {
   "cell_type": "code",
   "execution_count": 7,
   "id": "a7994577",
   "metadata": {
    "scrolled": true
   },
   "outputs": [
    {
     "name": "stdout",
     "output_type": "stream",
     "text": [
      "MySql database connection successfull\n",
      "Error: '1062 (23000): Duplicate entry '103' for key 'orders.PRIMARY''\n"
     ]
    }
   ],
   "source": [
    "#Insert data\n",
    "data_orders = \"\"\"\n",
    "insert into orders values\n",
    "(103,'Mark','Laptop','2020-06-12',2,800,'6456730802'),\n",
    "(102,'Jose','Laptop','2019-12-1',2,800,'6293733402')\n",
    "\"\"\"\n",
    "\n",
    "connection = create_db_connection(\"localhost\",\"root\",pw,db)\n",
    "execute_query(connection,data_orders)"
   ]
  },
  {
   "cell_type": "code",
   "execution_count": 8,
   "id": "0915e60c",
   "metadata": {},
   "outputs": [],
   "source": [
    "def read_query(connection,query):\n",
    "    cursor = connection.cursor()\n",
    "    result = None\n",
    "    try:\n",
    "        cursor.execute(query)\n",
    "        result = cursor.fetchall()\n",
    "        return result\n",
    "    except Error as err:\n",
    "        print(f\"Error: '{err}'\")\n",
    "        \n",
    "    "
   ]
  },
  {
   "cell_type": "code",
   "execution_count": 9,
   "id": "16505792",
   "metadata": {},
   "outputs": [
    {
     "name": "stdout",
     "output_type": "stream",
     "text": [
      "MySql database connection successfull\n",
      "(102, 'Jose', 'Laptop', datetime.date(2019, 12, 1), 2, 800.0, '6293733402')\n",
      "(103, 'Mark', 'Laptop', datetime.date(2020, 6, 12), 2, 800.0, '6456730802')\n"
     ]
    }
   ],
   "source": [
    "#Using the select statement\n",
    "q1 = \"\"\"\n",
    "SELECT *FROM orders;\n",
    "\"\"\"\n",
    "connection = create_db_connection(\"localhost\",\"root\",pw,db)\n",
    "results = read_query(connection,q1)\n",
    "for result in results:\n",
    "    print(result)"
   ]
  },
  {
   "cell_type": "code",
   "execution_count": 19,
   "id": "ae36ff98",
   "metadata": {},
   "outputs": [
    {
     "name": "stdout",
     "output_type": "stream",
     "text": [
      "MySql database connection successfull\n",
      "Error: '1146 (42S02): Table 'mysql_python.HOTELS' doesn't exist'\n",
      "None\n"
     ]
    }
   ],
   "source": [
    "q1 = \"\"\"\n",
    "select * from MALLS;\n",
    "\"\"\"\n",
    "q2 = '''\n",
    "Select HOTELS.NAME,HOTELS.PLACE,HOTELS.AVG_PRICE,GAMES.NAME,GAMES.PLACE,GAMES.PRICE,MALLS.NAME,MALLS.PLACE,MALLS.AVG_PRICE,HANGOUTS.NAME,HANGOUTS.PLACE,HANGOUTS.PRICE,(HOTELS.AVG_PRICE+MALLS.AVG_PRICE+HANGOUTS.PRICE+GAMES.PRICE)\n",
    " from HOTELS,GAMES,MALLS,HANGOUTS where (HOTELS.AVG_PRICE+MALLS.AVG_PRICE+HANGOUTS.PRICE+GAMES.PRICE) < 10000;\n",
    "'''\n",
    "connection = create_db_connection(\"localhost\",\"root\",pw,db)\n",
    "results = read_query(connection,q2)\n",
    "\n",
    "print(results)\n",
    "#for data in results:\n",
    "#    print(data)"
   ]
  },
  {
   "cell_type": "code",
   "execution_count": 54,
   "id": "5eec117a",
   "metadata": {},
   "outputs": [
    {
     "name": "stdout",
     "output_type": "stream",
     "text": [
      "1.hotel\n",
      "2.games\n",
      "3.malls\n",
      "4.hangouts2 4\n",
      "['2', '4']\n"
     ]
    }
   ],
   "source": [
    "x = input(\"1.hotel\\n2.games\\n3.malls\\n4.hangouts\")\n",
    "print(x.split())\n",
    "part1 = []\n",
    "header = ''\n",
    "part2 = []\n",
    "summ = ''\n",
    "part3 = []\n",
    "tables = ''\n",
    "part4 = []\n",
    "cond = ''\n",
    "part5 = 10000\n",
    "cond2 = ''\n",
    "final_string = ''\n",
    "maximum = 10000"
   ]
  },
  {
   "cell_type": "code",
   "execution_count": 55,
   "id": "ecd92aab",
   "metadata": {},
   "outputs": [
    {
     "name": "stdout",
     "output_type": "stream",
     "text": [
      "select GAMES.NAME,GAMES.PLACE,GAMES.PRICE,HANGOUTS.NAME,HANGOUTS.PLACE,HANGOUTS.PRICE,(GAMES.PRICE +HANGOUTS.PRICE ) from GAMES,HANGOUTS where (GAMES.PRICE+HANGOUTS.PRICE) < 10000 and HANGOUTS.PLACE = GAMES.PLACE\n"
     ]
    }
   ],
   "source": [
    "if '1' in x:\n",
    "    part1.append(\"HOTELS.NAME,HOTELS.PLACE,HOTELS.AVG_PRICE\")\n",
    "    part2.append(\"HOTELS.AVG_PRICE\")\n",
    "    part3.append(\"HOTELS\")\n",
    "    part4.append(\"HOTELS.AVG_PRICE\")\n",
    "    part5 = '10000'\n",
    "if '2' in x:\n",
    "    part1.append(\"GAMES.NAME,GAMES.PLACE,GAMES.PRICE\")\n",
    "    part2.append(\"GAMES.PRICE \")\n",
    "    part3.append(\"GAMES\")\n",
    "    part4.append(\"GAMES.PRICE\")\n",
    "if '3' in x:\n",
    "    part1.append(\"MALLS.NAME,MALLS.PLACE,MALLS.AVG_PRICE\")\n",
    "    part2.append(\"MALLS.AVG_PRICE \")\n",
    "    part3.append(\"MALLS\")\n",
    "    part4.append(\"MALLS.AVG_PRICE\")\n",
    "if '4' in x:\n",
    "    part1.append(\"HANGOUTS.NAME,HANGOUTS.PLACE,HANGOUTS.PRICE\")\n",
    "    part2.append(\"HANGOUTS.PRICE \")\n",
    "    part3.append(\"HANGOUTS\")\n",
    "    part4.append(\"HANGOUTS.PRICE\")\n",
    "    \n",
    "\n",
    "for i in range(len(part1)):\n",
    "    if i != len(part1)-1:\n",
    "        header = header + part1[i] + ','\n",
    "    else:\n",
    "        header = header + part1[i]\n",
    "for i in range(len(part2)):\n",
    "    if i != len(part2)-1:\n",
    "        summ = summ + part2[i] + '+'\n",
    "    else:\n",
    "        summ = summ + part2[i]\n",
    "for i in range(len(part3)):\n",
    "    if i != len(part3)-1:\n",
    "        tables = tables + part3[i] + ','\n",
    "    else:\n",
    "        tables = tables + part3[i]\n",
    "for i in range(len(part4)):\n",
    "    if i != len(part4)-1:\n",
    "        cond = cond + part4[i] + '+'\n",
    "    else:\n",
    "        cond = cond + part4[i]\n",
    "        \n",
    "if '2' and '4' in x:\n",
    "    cond2 = \"HANGOUTS.PLACE = GAMES.PLACE\"\n",
    "    final_string = f'select {header},({summ}) from {tables} where ({cond}) < {maximum} and ({cond2})'\n",
    "else:\n",
    "    final_string = f'select {header},({summ}) from {tables} where ({cond}) < {maximum}'\n",
    "\n",
    "print(final_string)\n",
    "\n",
    "    "
   ]
  },
  {
   "cell_type": "code",
   "execution_count": 57,
   "id": "d05fcb22",
   "metadata": {},
   "outputs": [
    {
     "name": "stdout",
     "output_type": "stream",
     "text": [
      "MySql database connection successfull\n",
      "('Snooker', 'Chikkaballapur', 300.0, 'Nandhi hills', 'Chikkaballapur', 200.0, 500.0)\n"
     ]
    }
   ],
   "source": [
    "q3 = f'''\n",
    "{final_string}\n",
    "'''\n",
    "db = 'test'\n",
    "connection = create_db_connection(\"localhost\",\"root\",pw,db)\n",
    "results = read_query(connection,q3)\n",
    "\n",
    "for data in results:\n",
    "    print(data)\n"
   ]
  },
  {
   "cell_type": "code",
   "execution_count": null,
   "id": "f88d5c33",
   "metadata": {},
   "outputs": [],
   "source": []
  }
 ],
 "metadata": {
  "kernelspec": {
   "display_name": "Python 3 (ipykernel)",
   "language": "python",
   "name": "python3"
  },
  "language_info": {
   "codemirror_mode": {
    "name": "ipython",
    "version": 3
   },
   "file_extension": ".py",
   "mimetype": "text/x-python",
   "name": "python",
   "nbconvert_exporter": "python",
   "pygments_lexer": "ipython3",
   "version": "3.9.13"
  }
 },
 "nbformat": 4,
 "nbformat_minor": 5
}
